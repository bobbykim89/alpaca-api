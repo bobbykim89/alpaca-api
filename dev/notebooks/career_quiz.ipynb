{
 "cells": [
  {
   "cell_type": "markdown",
   "id": "6c0cdf4b",
   "metadata": {},
   "source": [
    "## Career quiz\n",
    "This notebook is meant to suggest a user viable career paths // ideas based on some QnA that evolves as the user is answering questions."
   ]
  },
  {
   "cell_type": "code",
   "execution_count": 58,
   "id": "56ed3993",
   "metadata": {},
   "outputs": [],
   "source": [
    "import json\n",
    "from openai import OpenAI\n",
    "from dotenv import load_dotenv"
   ]
  },
  {
   "cell_type": "code",
   "execution_count": 59,
   "id": "6b39af02",
   "metadata": {},
   "outputs": [],
   "source": [
    "# Load environment variables from .env file\n",
    "load_dotenv()\n",
    "# load openai key\n",
    "client = OpenAI()"
   ]
  },
  {
   "cell_type": "code",
   "execution_count": 60,
   "id": "984f30c7",
   "metadata": {},
   "outputs": [],
   "source": [
    "# set up fcn to call openai\n",
    "def llm(user_prompt,system_prompt=\"you are a helpful assistant\",model=\"gpt-4o-mini\",temperature=0.5):\n",
    "    ''' this function calls the openAI api and feeds it user/system prompts'''\n",
    "    response = client.chat.completions.create(\n",
    "        model=model,\n",
    "        messages=[\n",
    "            {\"role\": \"system\", \"content\": system_prompt},\n",
    "            {\"role\": \"user\", \"content\": user_prompt}\n",
    "        ],\n",
    "        temperature=temperature,\n",
    "        )\n",
    "    return response.choices[0].message.content"
   ]
  },
  {
   "cell_type": "code",
   "execution_count": 61,
   "id": "95900ccf",
   "metadata": {},
   "outputs": [],
   "source": [
    "def load_prompts(user_prompt_filename=\"user_prompt.txt\",system_prompt_filename=\"system_prompt.txt\"):\n",
    "    # read the prompts from the txt files\n",
    "    with open(user_prompt_filename, \"r\") as f:\n",
    "        QNA_USER_PROMPT = f.read()\n",
    "\n",
    "    with open(system_prompt_filename, \"r\") as f:\n",
    "        QNA_SYSTEM_PROMPT = f.read()\n",
    "\n",
    "    return QNA_USER_PROMPT, QNA_SYSTEM_PROMPT"
   ]
  },
  {
   "cell_type": "code",
   "execution_count": 62,
   "id": "d2a2f3c7",
   "metadata": {},
   "outputs": [],
   "source": [
    "def load_quiz_files(quiz_filename=\"career_quiz.json\",responses_filename=\"user_response.json\"):\n",
    "    with open(quiz_filename, \"r\") as f:\n",
    "        career_quiz = json.load(f)\n",
    "\n",
    "    with open(responses_filename, \"r\") as f:\n",
    "        user_response = json.load(f)\n",
    "\n",
    "    return career_quiz, user_response"
   ]
  },
  {
   "cell_type": "code",
   "execution_count": 63,
   "id": "8782c3c6",
   "metadata": {},
   "outputs": [],
   "source": [
    "def format_prompts(QNA_USER_PROMPT,QNA_SYSTEM_PROMPT,career_quiz=[],user_response=[]):\n",
    "    ''' this function formats both the user and system prompt given quizz/answer selections so far'''\n",
    "\n",
    "    # format the quiz and the answer\n",
    "    qna_user_prompt = QNA_USER_PROMPT.format(user_response=json.dumps(user_response, indent=2))\n",
    "    qna_system_prompt = QNA_SYSTEM_PROMPT.format(career_quiz=json.dumps(career_quiz, indent=2))\n",
    "\n",
    "    return qna_user_prompt, qna_system_prompt\n"
   ]
  },
  {
   "cell_type": "markdown",
   "id": "236f9638",
   "metadata": {},
   "source": [
    "## MAIN"
   ]
  },
  {
   "cell_type": "code",
   "execution_count": 64,
   "id": "89230274",
   "metadata": {},
   "outputs": [],
   "source": [
    "# set up fake JSON input\n",
    "data = {\n",
    "    'career_quiz': [],\n",
    "    'user_response': []\n",
    "}"
   ]
  },
  {
   "cell_type": "code",
   "execution_count": 65,
   "id": "ccb8b9f7",
   "metadata": {},
   "outputs": [],
   "source": [
    "# load the prompts\n",
    "QNA_USER_PROMPT, QNA_SYSTEM_PROMPT = load_prompts()\n",
    "\n",
    "# read any input data from the system\n",
    "if not (data['career_quiz'] and data['user_response']):\n",
    "    # load the initial career quiz and response\n",
    "    career_quiz, user_response = load_quiz_files()\n",
    "else:\n",
    "    career_quiz = data['career_quiz']\n",
    "    user_response = data['user_response']\n"
   ]
  },
  {
   "cell_type": "code",
   "execution_count": 66,
   "id": "7c106831",
   "metadata": {},
   "outputs": [],
   "source": [
    "# Debugging purposes only\n",
    "QNA_SYSTEM_PROMPT = \"\"\" \n",
    "\n",
    "You are a career counselor guiding a user through a personalized quiz called 'CAREER_QUIZ'.\n",
    "\n",
    "Important context about the user:\n",
    "\n",
    "- The user is actively open to pursuing a new online degree.\n",
    "- All degrees are available online, so **do NOT ask about willingness to study, take classes, or preferred learning formats**.\n",
    "\n",
    "Your mission is to generate thoughtful, non-repetitive follow-up questions that help match the user to **a diverse set of potential career paths**, including *emerging, interdisciplinary, and less commonly suggested fields*.\n",
    "\n",
    "Examples of often-overlooked careers to consider surfacing:\n",
    "- Linguist, translator, anthropologist, archivist, ethicist, policy analyst, forensic psychologist, UX researcher, conservationist, public health educator, etc.\n",
    "\n",
    "Focus your questions on:\n",
    "- Passions and interests (e.g. topics, activities, causes)\n",
    "- Personality traits (e.g. curiosity, empathy, risk-taking)\n",
    "- Strengths and abilities (e.g. languages, math, problem solving)\n",
    "- Career goals and life stage (e.g. flexibility, impact, growth)\n",
    "- Preferred work settings (e.g. remote vs hands-on, solo vs team, structured vs creative)\n",
    "- Industry preferences (e.g. healthcare, technology, arts, public sector, startups)\n",
    "- Motivations (e.g. stability, purpose, autonomy, income potential)\n",
    "\n",
    "Avoid:\n",
    "- Repeating themes (e.g., asking 3 variations of \"do you like working with people?\")\n",
    "- Defaulting to generic careers like teacher, software engineer, or business analyst *unless the user strongly signals that path*\n",
    "\n",
    "You receive the current quiz state under <CAREER_QUIZ> with questions (IDs 1–10) and user answers.\n",
    "\n",
    "Your job:\n",
    "\n",
    "1. If **10 questions already exist (IDs 1–10)**, STOP asking and output ONLY a career recommendation JSON (see below).\n",
    "2. If there are **fewer than 10 questions**, generate **exactly ONE new follow-up question**, using the smallest unused ID from 1–10.\n",
    "3. **Never reuse or skip question IDs. Never use an ID > 10.**\n",
    "4. All output must be a single JSON object with no extra text, no Markdown, and no formatting.\n",
    "\n",
    "**Output formats:**\n",
    "\n",
    "- When generating a follow-up question:\n",
    "\n",
    "{{\n",
    "  \"id\": <smallest unused integer from 1 to 10>,\n",
    "  \"question\": \"A single clear follow-up question?\",\n",
    "  \"options\": [\"Option A\", \"Option B\", \"Option C\"],\n",
    "  \"multiple_answers\": true or false\n",
    "}}\n",
    "\n",
    "- When generating recommendations (after 10 questions):\n",
    "\n",
    "{{\n",
    "  \"career_recommendations\": [\"Career A\", \"Career B\", \"Career C\", ..., \"Career N\"],\n",
    "  \"reasoning\": \"Brief explanation (1–2 sentences) linking user answers to recommendations.\"\n",
    "}}\n",
    "\n",
    "**MANDATORY RULES:**\n",
    "- Recommend **5–10 careers**, no fewer, no more.\n",
    "- NEVER generate any question with an \"id\" greater than 10.\n",
    "- If 10 questions exist, **only output recommendations**.\n",
    "- Violation will result in a $20,000 USD penalty.\n",
    "\n",
    "<CAREER_QUIZ>\n",
    "{career_quiz}\n",
    "</CAREER_QUIZ>\n",
    "\n",
    "\"\"\""
   ]
  },
  {
   "cell_type": "code",
   "execution_count": 125,
   "id": "b15c0ec4",
   "metadata": {},
   "outputs": [],
   "source": [
    "# format prompts and get response\n",
    "qna_user_prompt, qna_system_prompt = format_prompts(QNA_USER_PROMPT,QNA_SYSTEM_PROMPT,career_quiz,user_response)\n",
    "response = llm(user_prompt = qna_user_prompt,system_prompt=qna_system_prompt,model=\"gpt-4o-mini\",temperature=0.5)"
   ]
  },
  {
   "cell_type": "code",
   "execution_count": 126,
   "id": "ed3abaa3",
   "metadata": {},
   "outputs": [
    {
     "name": "stdout",
     "output_type": "stream",
     "text": [
      "{'career_recommendations': ['UX Researcher', 'Digital Archivist', 'Policy Analyst', 'Forensic Psychologist', 'Ethicist', 'Conservationist', 'Public Health Educator', 'Linguist', 'Creative Technologist'], 'reasoning': 'Your interests in technology and arts, combined with your analytical and creative personality traits, suggest careers that bridge these fields. Roles like UX researcher and digital archivist leverage your technical skills and desire for creative expression, while positions like policy analyst and forensic psychologist align with your problem-solving abilities and curiosity.'}\n"
     ]
    }
   ],
   "source": [
    "# extract new question\n",
    "new_question = json.loads(response)\n",
    "print(new_question)\n"
   ]
  },
  {
   "cell_type": "code",
   "execution_count": 121,
   "id": "4cbcb081",
   "metadata": {},
   "outputs": [
    {
     "name": "stdout",
     "output_type": "stream",
     "text": [
      "{'id': 10, 'question': 'What motivates you most in your career?', 'selections': ['High income potential']}\n"
     ]
    }
   ],
   "source": [
    "\n",
    "# pretend the user selected and answer\n",
    "new_response = {\n",
    "    \"id\": new_question['id'],\n",
    "    \"question\": new_question['question'],\n",
    "    \"selections\": [new_question['options'][i] for i in [3]]\n",
    "}\n",
    "print(new_response)\n"
   ]
  },
  {
   "cell_type": "code",
   "execution_count": 122,
   "id": "4afd3cb0",
   "metadata": {},
   "outputs": [],
   "source": [
    "# append to the career quiz and the user_response\n",
    "career_quiz.append(new_question)\n",
    "user_response.append(new_response)\n"
   ]
  },
  {
   "cell_type": "code",
   "execution_count": 123,
   "id": "74e24515",
   "metadata": {},
   "outputs": [],
   "source": [
    "# output the updated career quiz and user_response as json bits\n",
    "data = {\n",
    "    'career_quiz': career_quiz,\n",
    "    'user_response': user_response\n",
    "}"
   ]
  },
  {
   "cell_type": "code",
   "execution_count": 124,
   "id": "0b2a284d",
   "metadata": {},
   "outputs": [
    {
     "data": {
      "text/plain": [
       "{'career_quiz': [{'id': 1,\n",
       "   'question': 'Where are you in your professional development?',\n",
       "   'options': ['high-school student',\n",
       "    'college student',\n",
       "    'graduate student',\n",
       "    'early-career professional',\n",
       "    'late career professional',\n",
       "    'lifelong learner'],\n",
       "   'multiple_answers': False},\n",
       "  {'id': 2,\n",
       "   'question': 'What topics or causes are you most passionate about?',\n",
       "   'options': ['Environmental issues',\n",
       "    'Social justice',\n",
       "    'Technology and innovation',\n",
       "    'Health and wellness',\n",
       "    'Arts and culture'],\n",
       "   'multiple_answers': True},\n",
       "  {'id': 3,\n",
       "   'question': 'Which personality traits best describe you?',\n",
       "   'options': ['Curious',\n",
       "    'Empathetic',\n",
       "    'Analytical',\n",
       "    'Creative',\n",
       "    'Detail-oriented'],\n",
       "   'multiple_answers': True},\n",
       "  {'id': 4,\n",
       "   'question': 'What strengths or abilities do you possess that you feel could be valuable in a career?',\n",
       "   'options': ['Strong writing skills',\n",
       "    'Technical skills (e.g., coding, design)',\n",
       "    'Problem-solving abilities',\n",
       "    'Interpersonal skills',\n",
       "    'Research and analysis'],\n",
       "   'multiple_answers': True},\n",
       "  {'id': 5,\n",
       "   'question': 'What type of work environment do you prefer?',\n",
       "   'options': ['Remote and flexible',\n",
       "    'Collaborative team setting',\n",
       "    'Structured office environment',\n",
       "    'Creative and open space'],\n",
       "   'multiple_answers': False},\n",
       "  {'id': 6,\n",
       "   'question': 'What are your long-term career goals?',\n",
       "   'options': ['Achieving work-life balance',\n",
       "    'Making a social impact',\n",
       "    'Pursuing leadership roles',\n",
       "    'Gaining expertise in a specialized field',\n",
       "    'Exploring entrepreneurial opportunities'],\n",
       "   'multiple_answers': True},\n",
       "  {'id': 7,\n",
       "   'question': 'Which industries are you most interested in working within?',\n",
       "   'options': ['Healthcare',\n",
       "    'Technology',\n",
       "    'Creative arts',\n",
       "    'Education',\n",
       "    'Public service'],\n",
       "   'multiple_answers': True},\n",
       "  {'id': 8,\n",
       "   'question': 'What type of impact do you want your work to have on society?',\n",
       "   'options': ['Promoting sustainability and environmental awareness',\n",
       "    'Enhancing cultural understanding and creativity',\n",
       "    'Advancing technology and innovation for better living',\n",
       "    'Improving education and accessibility for all'],\n",
       "   'multiple_answers': True},\n",
       "  {'id': 9,\n",
       "   'question': 'How do you feel about collaborating with others on projects?',\n",
       "   'options': ['I prefer to work independently',\n",
       "    'I enjoy collaboration but need my own space',\n",
       "    'I thrive in collaborative environments'],\n",
       "   'multiple_answers': False},\n",
       "  {'id': 10,\n",
       "   'question': 'What motivates you most in your career?',\n",
       "   'options': ['Stability and job security',\n",
       "    'Creative expression and innovation',\n",
       "    \"Making a difference in people's lives\",\n",
       "    'High income potential'],\n",
       "   'multiple_answers': False}],\n",
       " 'user_response': [{'id': 1,\n",
       "   'question': 'Where are you in your professional development?',\n",
       "   'selections': ['early-career professional']},\n",
       "  {'id': 2,\n",
       "   'question': 'What topics or causes are you most passionate about?',\n",
       "   'selections': ['Technology and innovation', 'Arts and culture']},\n",
       "  {'id': 3,\n",
       "   'question': 'Which personality traits best describe you?',\n",
       "   'selections': ['Curious', 'Analytical', 'Creative']},\n",
       "  {'id': 4,\n",
       "   'question': 'What strengths or abilities do you possess that you feel could be valuable in a career?',\n",
       "   'selections': ['Technical skills (e.g., coding, design)',\n",
       "    'Problem-solving abilities',\n",
       "    'Research and analysis']},\n",
       "  {'id': 5,\n",
       "   'question': 'What type of work environment do you prefer?',\n",
       "   'selections': ['Remote and flexible']},\n",
       "  {'id': 6,\n",
       "   'question': 'What are your long-term career goals?',\n",
       "   'selections': ['Achieving work-life balance',\n",
       "    'Pursuing leadership roles',\n",
       "    'Gaining expertise in a specialized field']},\n",
       "  {'id': 7,\n",
       "   'question': 'Which industries are you most interested in working within?',\n",
       "   'selections': ['Technology', 'Education']},\n",
       "  {'id': 8,\n",
       "   'question': 'What type of impact do you want your work to have on society?',\n",
       "   'selections': ['Enhancing cultural understanding and creativity',\n",
       "    'Advancing technology and innovation for better living']},\n",
       "  {'id': 9,\n",
       "   'question': 'How do you feel about collaborating with others on projects?',\n",
       "   'selections': ['I prefer to work independently']},\n",
       "  {'id': 10,\n",
       "   'question': 'What motivates you most in your career?',\n",
       "   'selections': ['High income potential']}]}"
      ]
     },
     "execution_count": 124,
     "metadata": {},
     "output_type": "execute_result"
    }
   ],
   "source": [
    "data"
   ]
  }
 ],
 "metadata": {
  "kernelspec": {
   "display_name": ".venv",
   "language": "python",
   "name": "python3"
  },
  "language_info": {
   "codemirror_mode": {
    "name": "ipython",
    "version": 3
   },
   "file_extension": ".py",
   "mimetype": "text/x-python",
   "name": "python",
   "nbconvert_exporter": "python",
   "pygments_lexer": "ipython3",
   "version": "3.13.2"
  }
 },
 "nbformat": 4,
 "nbformat_minor": 5
}
