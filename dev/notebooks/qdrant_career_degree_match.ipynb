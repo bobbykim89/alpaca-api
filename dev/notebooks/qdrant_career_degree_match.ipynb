{
 "cells": [
  {
   "cell_type": "markdown",
   "id": "b71ebc77",
   "metadata": {},
   "source": [
    "# QDRANT search engine\n",
    "We are using qdrant cloud to store data and then do some quick search. Reranking is done on the python side.\n",
    "\n",
    "## Setup\n",
    "simply install:\n",
    "\n",
    "```bash\n",
    "pip install qdrant-client\n",
    "```"
   ]
  },
  {
   "cell_type": "code",
   "execution_count": 1,
   "id": "f937a498",
   "metadata": {},
   "outputs": [
    {
     "name": "stderr",
     "output_type": "stream",
     "text": [
      "/Users/anicol11/ASU Dropbox/Andrea Nicolas Flores/Mac/Documents/projects/alpaca-api/dev/.venv/lib/python3.13/site-packages/tqdm/auto.py:21: TqdmWarning: IProgress not found. Please update jupyter and ipywidgets. See https://ipywidgets.readthedocs.io/en/stable/user_install.html\n",
      "  from .autonotebook import tqdm as notebook_tqdm\n"
     ]
    }
   ],
   "source": [
    "import os\n",
    "import json\n",
    "import numpy as np\n",
    "from dotenv import load_dotenv\n",
    "from fastembed import TextEmbedding\n",
    "from qdrant_client import QdrantClient, models"
   ]
  },
  {
   "cell_type": "code",
   "execution_count": 2,
   "id": "41c2eb24",
   "metadata": {},
   "outputs": [],
   "source": [
    "# Load environment variables from .env file\n",
    "load_dotenv()\n",
    "api_key = os.getenv(\"QDRANT_API_KEY\")"
   ]
  },
  {
   "cell_type": "markdown",
   "id": "812076a9",
   "metadata": {},
   "source": [
    "### Step 1: connect to Qdrant"
   ]
  },
  {
   "cell_type": "code",
   "execution_count": 3,
   "id": "6e73fac0",
   "metadata": {},
   "outputs": [],
   "source": [
    "qdrant_client = QdrantClient(\n",
    "    url=\"https://1497c57a-fec5-4169-8998-262cd4f287dc.us-west-1-0.aws.cloud.qdrant.io:6333\", \n",
    "    api_key=api_key,\n",
    ")"
   ]
  },
  {
   "cell_type": "markdown",
   "id": "31d967f6",
   "metadata": {},
   "source": [
    "### Step 2: set up embedding model\n",
    "We are selecting the small jinaai model since its small (512... which means it takes 512 tokens or less), it's solidly in english, and we're just working on small text with no fancy jargon.\n",
    "\n",
    "The long descriptions tend to be <512 tokens so no need to chunk."
   ]
  },
  {
   "cell_type": "code",
   "execution_count": 4,
   "id": "5ebc9f11",
   "metadata": {},
   "outputs": [],
   "source": [
    "model_handle = \"jinaai/jina-embeddings-v2-small-en\"\n",
    "embedding_dim = 512"
   ]
  },
  {
   "cell_type": "markdown",
   "id": "3714d428",
   "metadata": {},
   "source": [
    "### Step 3: create a collection\n",
    "It's a set of points (vectors with optional payloads)... its a container of my vector search."
   ]
  },
  {
   "cell_type": "code",
   "execution_count": 19,
   "id": "e1ae967a",
   "metadata": {},
   "outputs": [
    {
     "data": {
      "text/plain": [
       "True"
      ]
     },
     "execution_count": 19,
     "metadata": {},
     "output_type": "execute_result"
    }
   ],
   "source": [
    "# Define the collection name\n",
    "collection_name = \"degree-information\"\n",
    "\n",
    "# Create the collection with specified vector parameters\n",
    "qdrant_client.create_collection(\n",
    "    collection_name=collection_name,\n",
    "    vectors_config={\n",
    "        \"description_vector\": models.VectorParams(size=embedding_dim, distance=models.Distance.COSINE),\n",
    "        \"career_vector\": models.VectorParams(size=embedding_dim, distance=models.Distance.COSINE),\n",
    "    }\n",
    ")"
   ]
  },
  {
   "cell_type": "markdown",
   "id": "7d4f0256",
   "metadata": {},
   "source": [
    "### Step 4: create, embed & insert points into the collection"
   ]
  },
  {
   "cell_type": "code",
   "execution_count": 20,
   "id": "7267079e",
   "metadata": {},
   "outputs": [],
   "source": [
    "# load the degree data from that json file\n",
    "degree_data_filename = \"../datasets/degree_data_all_wCareers.json\"\n",
    "with open(degree_data_filename, \"r\") as f:\n",
    "        documents = json.load(f)"
   ]
  },
  {
   "cell_type": "code",
   "execution_count": 21,
   "id": "3d5aad5f",
   "metadata": {},
   "outputs": [],
   "source": [
    "# create point structure that embeds and setups data format\n",
    "points = []\n",
    "id = 0\n",
    "\n",
    "for doc in documents:\n",
    "    # Concatenate text to embed\n",
    "    description_text = f\"{doc['degreeTitle']} {doc['shortDescription']} {doc['longDescription']}\"\n",
    "    careers_text = \", \".join(doc['careers'])\n",
    "\n",
    "    point = models.PointStruct(\n",
    "        id=id,\n",
    "        vector={\n",
    "            \"description_vector\": models.Document(text=description_text, model=model_handle), #embed text locally with \"jinaai/jina-embeddings-v2-small-en\" from FastEmbed\n",
    "            \"career_vector\": models.Document(text=careers_text, model=model_handle), #embed text locally with \"jinaai/jina-embeddings-v2-small-en\" from FastEmbed\n",
    "        },\n",
    "        payload={\n",
    "            \"degreeTitle\": doc['degreeTitle'],\n",
    "            \"shortDescription\": doc['shortDescription'],\n",
    "            \"careers\": careers_text,\n",
    "        } #save all needed metadata fields\n",
    "    )\n",
    "    points.append(point)\n",
    "\n",
    "    id += 1"
   ]
  },
  {
   "cell_type": "code",
   "execution_count": 22,
   "id": "7a133c35",
   "metadata": {},
   "outputs": [
    {
     "data": {
      "text/plain": [
       "UpdateResult(operation_id=0, status=<UpdateStatus.COMPLETED: 'completed'>)"
      ]
     },
     "execution_count": 22,
     "metadata": {},
     "output_type": "execute_result"
    }
   ],
   "source": [
    "# insert points into collection\n",
    "qdrant_client.upsert(\n",
    "    collection_name=collection_name,\n",
    "    points=points\n",
    ")"
   ]
  },
  {
   "cell_type": "markdown",
   "id": "24e6f1b8",
   "metadata": {},
   "source": [
    "## OPTIONAL STEP: add data to the collection"
   ]
  },
  {
   "cell_type": "code",
   "execution_count": 5,
   "id": "e097e1b3",
   "metadata": {},
   "outputs": [],
   "source": [
    "collection_name = \"degree-information\"\n",
    "\n",
    "# load the degree data from that json file\n",
    "degree_data_filename = \"../datasets/degree_data_all_wCareers_urls.json\"\n",
    "with open(degree_data_filename, \"r\") as f:\n",
    "        documents = json.load(f)"
   ]
  },
  {
   "cell_type": "code",
   "execution_count": 14,
   "id": "4f736b8c",
   "metadata": {},
   "outputs": [],
   "source": [
    "for idx, doc in enumerate(documents):\n",
    "    qdrant_client.set_payload(\n",
    "        collection_name=collection_name,\n",
    "        payload={\"url\": doc[\"url\"]},\n",
    "        points=[idx]\n",
    "    )"
   ]
  },
  {
   "cell_type": "code",
   "execution_count": null,
   "id": "f41e5c14",
   "metadata": {},
   "outputs": [],
   "source": [
    "# update points into collection\n",
    "qdrant_client.upsert(\n",
    "    collection_name=collection_name,\n",
    "    points=points\n",
    ")"
   ]
  },
  {
   "cell_type": "markdown",
   "id": "3cb5e34b",
   "metadata": {},
   "source": [
    "### Step 5: running a similarity search"
   ]
  },
  {
   "cell_type": "code",
   "execution_count": null,
   "id": "96f717ed",
   "metadata": {},
   "outputs": [],
   "source": [
    "# def search(query, limit=1):\n",
    "#     \"\"\" This function is for searching amongst all the careers listed per degree\"\"\"\n",
    "#     results = qdrant_client.query_points(\n",
    "#         collection_name=collection_name,\n",
    "#         query=models.Document( #embed the query text locally with \"jinaai/jina-embeddings-v2-small-en\"\n",
    "#             text=query,\n",
    "#             model=model_handle \n",
    "#         ),\n",
    "#         limit=limit, # top closest matches\n",
    "#         with_payload=True, #to get metadata in the results\n",
    "#         using=\"career_vector\"\n",
    "\n",
    "#     )\n",
    "\n",
    "#     return results"
   ]
  },
  {
   "cell_type": "code",
   "execution_count": 57,
   "id": "1f06f3b6",
   "metadata": {},
   "outputs": [],
   "source": [
    "def search(selected_career,user_profile, limit=1):\n",
    "    \"\"\" This function is for searching amongst all the careers listed per degree\"\"\"\n",
    "    results = qdrant_client.query_points(\n",
    "        collection_name=collection_name,\n",
    "        prefetch=[\n",
    "            models.Prefetch(\n",
    "                query=models.Document(text=selected_career,model=model_handle),\n",
    "                using=\"career_vector\",\n",
    "                limit=20,\n",
    "            ),\n",
    "            models.Prefetch(\n",
    "                query=models.Document(text=user_profile,model=model_handle),\n",
    "                using=\"description_vector\",\n",
    "                limit=20,\n",
    "            ),\n",
    "        ],\n",
    "        query=models.FusionQuery(fusion=models.Fusion.RRF),\n",
    "        limit=limit,\n",
    "        with_payload=True\n",
    "    )\n",
    "\n",
    "    return results"
   ]
  },
  {
   "cell_type": "code",
   "execution_count": 62,
   "id": "a0933210",
   "metadata": {},
   "outputs": [],
   "source": [
    "# make a search\n",
    "career_selected = \"data scientist\"\n",
    "user_profile = \"\"\"Where are you in your professional development? early-career professional; What are your main interests or passions? Technology, Science and Research; What skills do you feel most confident in? Technical Skills, Analytical Skills; What type of work environment do you prefer? Remote work; What are your career goals or motivations for pursuing a new degree? Advancing in my current field; What industries are you most interested in working in? Information Technology; What type of job roles are you most interested in pursuing? Software Development, Data Analysis; What aspects of a job do you find most rewarding? Solving complex problems, Working with cutting-edge technology; What type of side gigs or freelance work are you interested in exploring? Freelance coding or development, Consulting; What level of education are you aiming to achieve with your new degree? Master's Degree\n",
    "\"\"\"\n",
    "hits = search(career_selected,user_profile,limit=5)\n"
   ]
  },
  {
   "cell_type": "markdown",
   "id": "388c779f",
   "metadata": {},
   "source": [
    "### Step 6: Ask chatGPT to recommend the top 3 choices"
   ]
  },
  {
   "cell_type": "code",
   "execution_count": 67,
   "id": "bbbe4741",
   "metadata": {},
   "outputs": [],
   "source": [
    "# format the results into text to plug into chatGPT\n",
    "recommended_degrees_data = []\n",
    "for hit in hits.points:\n",
    "    degree_data = {}\n",
    "    degree_data[\"degree_title\"] = hit.payload['degreeTitle']\n",
    "    degree_data[\"careers\"] = hit.payload['careers']\n",
    "    degree_data[\"degree_description\"] = hit.payload['shortDescription']\n",
    "    recommended_degrees_data.append(degree_data)\n"
   ]
  },
  {
   "cell_type": "code",
   "execution_count": 69,
   "id": "c716b92b",
   "metadata": {},
   "outputs": [
    {
     "name": "stdout",
     "output_type": "stream",
     "text": [
      "[\n",
      "  {\n",
      "    \"degree_title\": \"Online Master of Science in Information Technology (IT)\",\n",
      "    \"careers\": \"Data analyst, Database architect, Data engineer, DevOps engineer, Full stack developer, Network/cloud engineer, Network forensics engineer, Security engineer, Software engineer, Solutions architect\",\n",
      "    \"degree_description\": \"Earning a Master of Science in information technology online will equip you to become a technology leader who drives business strategy, defines investment priorities and leads successful teams. \\u00a0As a graduate, you\\u2019ll be skilled in topics ranging from data science to cybersecurity, preparing you to advance your information technology career.\"\n",
      "  },\n",
      "  {\n",
      "    \"degree_title\": \"Online Master of Science in Program Evaluation and Data Analytics\",\n",
      "    \"careers\": \"Data ambassador, Data analyst, Data fellow, Data programmer, Data science engineer, Database-driven website consultant, Program performance and evaluation manager, Programmer analyst, Senior analyst in performance assessment\",\n",
      "    \"degree_description\": \"Are you passionate about applying data insights to drive organizational performance improvements? This online Master of Science in program evaluation and data analytics from Arizona State University prepares you to make a positive social impact through data and evidence-based decision-making. Upon graduating, your critical thinking and analytical skills will be in high demand by employers across all industries, particularly in the public and nonprofit sectors.\"\n",
      "  },\n",
      "  {\n",
      "    \"degree_title\": \"Online Master of Science in Technical Communication\",\n",
      "    \"careers\": \"Content developer, Content strategist, Content writer, Grant/proposal writer, Information designer, Information developer, Professional writer, Social media specialist, Social media writer, Technical editor, Technical writer, Web content editor, Web content writer\",\n",
      "    \"degree_description\": \"Arizona State University\\u2019s Master of Science in technical communication empowers you to communicate with a variety of audiences through print and digital media. Featuring a flexible curriculum tailored to your specific career goals, this program provides you with an understanding of professional, cultural and ethical issues shaping the field.\"\n",
      "  },\n",
      "  {\n",
      "    \"degree_title\": \"Online Master of Computer Science \\u2013 Big Data Systems\",\n",
      "    \"careers\": \"Cloud support associate, Data architect, Data engineer, Data scientist, Database administrator, Software development engineer\",\n",
      "    \"degree_description\": \"Does harnessing the power of computing and machine learning to make sense of big data interest you? If so, Arizona State University\\u2019s online Master of Computer Science with a concentration in big data systems may be a great fit. In this program, you'll design scalable systems for capturing, processing and interpreting large and complex data sets. You'll also gain analytical expertise to generate insights from data and inform decision-making for organizations.\"\n",
      "  },\n",
      "  {\n",
      "    \"degree_title\": \"Online Master of Science in Biological Data Science\",\n",
      "    \"careers\": \"Biostatistician, Bioinformatics scientist, Clinical data manager, Computer and information research scientist, Database administrator, Environmental scientist, Statistician\",\n",
      "    \"degree_description\": \"Arizona State University\\u2019s Master of Science in biological data science develops your expertise in using analytical methods and computational tools to interpret scientific data. In this program, you\\u2019ll gain a comprehensive understanding of natural sciences through a tailored curriculum and hands-on learning experiences. Upon graduation, you\\u2019ll be equipped for a variety of careers in one of the fastest-growing fields.\"\n",
      "  }\n",
      "]\n"
     ]
    }
   ],
   "source": [
    "recommended_degrees = json.dumps(recommended_degrees_data,indent=2)\n",
    "print(recommended_degrees)"
   ]
  },
  {
   "cell_type": "code",
   "execution_count": 70,
   "id": "54679ccf",
   "metadata": {},
   "outputs": [],
   "source": [
    "SYSTEM_PROMPT = \"\"\" \n",
    "You are a career counselor with access to a list called \"degrees_data\" that contains 5 degree options. These degrees were selected based on a user's answers to a \"career_quiz\" and their chosen \"career_selection\".\n",
    "\n",
    "Your task is to recommend the top 3 degrees from \"degrees_data\" that best match the user's profile and career interest.\n",
    "\n",
    "Return your answer in the following JSON format — do not include any extra text, explanations, markdown, or code blocks:\n",
    "\n",
    "[\n",
    "    {\n",
    "        \"top_choice_1\": \"<Degree title>\",\n",
    "        \"reasoning\": \"<Concise explanation of why this degree fits the user's selected career>\"\n",
    "    },\n",
    "    {\n",
    "        \"top_choice_2\": \"<Degree title>\",\n",
    "        \"reasoning\": \"<Concise explanation of why this degree fits the user's selected career>\"\n",
    "    },\n",
    "    {\n",
    "        \"top_choice_3\": \"<Degree title>\",\n",
    "        \"reasoning\": \"<Concise explanation of why this degree fits the user's selected career>\"\n",
    "    }\n",
    "]\n",
    "\n",
    "\n",
    "If you think that none of the degrees are a good fit for the user, then return the following:\n",
    "\n",
    "[\n",
    "    {\n",
    "        \"top_choice_1\": \"NONE\",\n",
    "        \"reasoning\": \"<Concise explanation of why you think none of the degrees were a good fit.>\"\n",
    "    },\n",
    "\n",
    "]\n",
    "\n",
    "The output must be valid JSON and fully parsable using `json.loads()` in Python.\n",
    "\n",
    "When wording your reasonings for fit/no fit, talk as if you were talking to the user in a friendly and professional manner.\n",
    "\"\"\"\n"
   ]
  },
  {
   "cell_type": "code",
   "execution_count": 71,
   "id": "ee5c5063",
   "metadata": {},
   "outputs": [],
   "source": [
    "USER_PROMPT = \"\"\" \n",
    "\n",
    "<career_selection>\n",
    "{career_selection}\n",
    "</career_selection>\n",
    "\n",
    "<career_quiz>\n",
    "{career_quiz}\n",
    "</career_quiz>\n",
    "\n",
    "<degrees_data>\n",
    "{degrees_data}\n",
    "</degrees_data>\n",
    "\"\"\""
   ]
  },
  {
   "cell_type": "code",
   "execution_count": 72,
   "id": "3a673718",
   "metadata": {},
   "outputs": [],
   "source": [
    "selections_user_prompt = USER_PROMPT.format(career_selection=career_selected,career_quiz=user_profile,degrees_data=recommended_degrees)"
   ]
  },
  {
   "cell_type": "code",
   "execution_count": 73,
   "id": "0fb671d5",
   "metadata": {},
   "outputs": [],
   "source": [
    "from openai import OpenAI\n",
    "from dotenv import load_dotenv"
   ]
  },
  {
   "cell_type": "code",
   "execution_count": 74,
   "id": "aa12d344",
   "metadata": {},
   "outputs": [],
   "source": [
    "# Load environment variables from .env file\n",
    "load_dotenv()\n",
    "# load openai key\n",
    "client = OpenAI()"
   ]
  },
  {
   "cell_type": "code",
   "execution_count": 75,
   "id": "f4b768de",
   "metadata": {},
   "outputs": [],
   "source": [
    "# set up fcn to call openai\n",
    "def llm(user_prompt,system_prompt=\"you are a helpful assistant\",model=\"gpt-4o-mini\",temperature=0.5):\n",
    "    ''' this function calls the openAI api and feeds it user/system prompts'''\n",
    "    response = client.chat.completions.create(\n",
    "        model=model,\n",
    "        messages=[\n",
    "            {\"role\": \"system\", \"content\": system_prompt},\n",
    "            {\"role\": \"user\", \"content\": user_prompt}\n",
    "        ],\n",
    "        temperature=temperature,\n",
    "        )\n",
    "    return response.choices[0].message.content"
   ]
  },
  {
   "cell_type": "code",
   "execution_count": 76,
   "id": "322b5aca",
   "metadata": {},
   "outputs": [],
   "source": [
    "#actually call the LLM\n",
    "response = llm(user_prompt = selections_user_prompt,system_prompt=SYSTEM_PROMPT,model=\"gpt-4o-mini\",temperature=0.5)"
   ]
  },
  {
   "cell_type": "code",
   "execution_count": 77,
   "id": "6dd37a22",
   "metadata": {},
   "outputs": [
    {
     "name": "stdout",
     "output_type": "stream",
     "text": [
      "[\n",
      "    {\n",
      "        \"top_choice_1\": \"Online Master of Computer Science – Big Data Systems\",\n",
      "        \"reasoning\": \"This degree is a perfect fit for your interest in becoming a data scientist as it focuses on big data systems and analytical expertise, essential skills for interpreting complex data sets.\"\n",
      "    },\n",
      "    {\n",
      "        \"top_choice_2\": \"Online Master of Science in Program Evaluation and Data Analytics\",\n",
      "        \"reasoning\": \"This program aligns well with your passion for technology and data analysis, providing you with the skills to drive performance improvements through data insights, which is vital for a data scientist.\"\n",
      "    },\n",
      "    {\n",
      "        \"top_choice_3\": \"Online Master of Science in Information Technology (IT)\",\n",
      "        \"reasoning\": \"This degree equips you with a broad range of IT skills, including data science, which will help you advance in your current field and prepare you for various roles in data analysis and software development.\"\n",
      "    }\n",
      "]\n"
     ]
    }
   ],
   "source": [
    "print(response)"
   ]
  },
  {
   "cell_type": "code",
   "execution_count": 78,
   "id": "06c188af",
   "metadata": {},
   "outputs": [
    {
     "name": "stdout",
     "output_type": "stream",
     "text": [
      "[{'top_choice_1': 'Online Master of Computer Science – Big Data Systems', 'reasoning': 'This degree is a perfect fit for your interest in becoming a data scientist as it focuses on big data systems and analytical expertise, essential skills for interpreting complex data sets.'}, {'top_choice_2': 'Online Master of Science in Program Evaluation and Data Analytics', 'reasoning': 'This program aligns well with your passion for technology and data analysis, providing you with the skills to drive performance improvements through data insights, which is vital for a data scientist.'}, {'top_choice_3': 'Online Master of Science in Information Technology (IT)', 'reasoning': 'This degree equips you with a broad range of IT skills, including data science, which will help you advance in your current field and prepare you for various roles in data analysis and software development.'}]\n"
     ]
    }
   ],
   "source": [
    "# extract bot recommendations\n",
    "recommendations_bot = json.loads(response)\n",
    "print(recommendations_bot)"
   ]
  }
 ],
 "metadata": {
  "kernelspec": {
   "display_name": ".venv",
   "language": "python",
   "name": "python3"
  },
  "language_info": {
   "codemirror_mode": {
    "name": "ipython",
    "version": 3
   },
   "file_extension": ".py",
   "mimetype": "text/x-python",
   "name": "python",
   "nbconvert_exporter": "python",
   "pygments_lexer": "ipython3",
   "version": "3.13.2"
  }
 },
 "nbformat": 4,
 "nbformat_minor": 5
}
