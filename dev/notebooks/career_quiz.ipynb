{
 "cells": [
  {
   "cell_type": "markdown",
   "id": "6c0cdf4b",
   "metadata": {},
   "source": [
    "## Career quiz\n",
    "This notebook is meant to suggest a user viable career paths // ideas based on some QnA that evolves as the user is answering questions."
   ]
  },
  {
   "cell_type": "code",
   "execution_count": 18,
   "id": "56ed3993",
   "metadata": {},
   "outputs": [],
   "source": [
    "import json\n",
    "from openai import OpenAI\n",
    "from dotenv import load_dotenv"
   ]
  },
  {
   "cell_type": "code",
   "execution_count": 19,
   "id": "6b39af02",
   "metadata": {},
   "outputs": [],
   "source": [
    "# Load environment variables from .env file\n",
    "load_dotenv()\n",
    "# load openai key\n",
    "client = OpenAI()"
   ]
  },
  {
   "cell_type": "code",
   "execution_count": 20,
   "id": "984f30c7",
   "metadata": {},
   "outputs": [],
   "source": [
    "# set up fcn to call openai\n",
    "def llm(user_prompt,system_prompt=\"you are a helpful assistant\",model=\"gpt-4o-mini\",temperature=0.5):\n",
    "    ''' this function calls the openAI api and feeds it user/system prompts'''\n",
    "    response = client.chat.completions.create(\n",
    "        model=model,\n",
    "        messages=[\n",
    "            {\"role\": \"system\", \"content\": system_prompt},\n",
    "            {\"role\": \"user\", \"content\": user_prompt}\n",
    "        ],\n",
    "        temperature=temperature,\n",
    "        )\n",
    "    return response.choices[0].message.content"
   ]
  },
  {
   "cell_type": "code",
   "execution_count": 21,
   "id": "95900ccf",
   "metadata": {},
   "outputs": [],
   "source": [
    "def load_prompts(user_prompt_filename=\"user_prompt.txt\",system_prompt_filename=\"system_prompt.txt\"):\n",
    "    # read the prompts from the txt files\n",
    "    with open(user_prompt_filename, \"r\") as f:\n",
    "        QNA_USER_PROMPT = f.read()\n",
    "\n",
    "    with open(system_prompt_filename, \"r\") as f:\n",
    "        QNA_SYSTEM_PROMPT = f.read()\n",
    "\n",
    "    return QNA_USER_PROMPT, QNA_SYSTEM_PROMPT"
   ]
  },
  {
   "cell_type": "code",
   "execution_count": 22,
   "id": "d2a2f3c7",
   "metadata": {},
   "outputs": [],
   "source": [
    "def load_quiz_files(quiz_filename=\"career_quiz.json\",responses_filename=\"user_response.json\"):\n",
    "    with open(quiz_filename, \"r\") as f:\n",
    "        career_quiz = json.load(f)\n",
    "\n",
    "    with open(responses_filename, \"r\") as f:\n",
    "        user_response = json.load(f)\n",
    "\n",
    "    return career_quiz, user_response"
   ]
  },
  {
   "cell_type": "code",
   "execution_count": 23,
   "id": "8782c3c6",
   "metadata": {},
   "outputs": [],
   "source": [
    "def format_prompts(QNA_USER_PROMPT,QNA_SYSTEM_PROMPT,career_quiz=[],user_response=[]):\n",
    "    ''' this function formats both the user and system prompt given quizz/answer selections so far'''\n",
    "\n",
    "    # format the quiz and the answer\n",
    "    qna_user_prompt = QNA_USER_PROMPT.format(user_response=json.dumps(user_response, indent=2))\n",
    "    qna_system_prompt = QNA_SYSTEM_PROMPT.format(career_quiz=json.dumps(career_quiz, indent=2))\n",
    "\n",
    "    return qna_user_prompt, qna_system_prompt\n"
   ]
  },
  {
   "cell_type": "markdown",
   "id": "236f9638",
   "metadata": {},
   "source": [
    "## MAIN"
   ]
  },
  {
   "cell_type": "code",
   "execution_count": 24,
   "id": "89230274",
   "metadata": {},
   "outputs": [],
   "source": [
    "# set up fake JSON input\n",
    "data = {\n",
    "    'career_quiz': [],\n",
    "    'user_response': []\n",
    "}"
   ]
  },
  {
   "cell_type": "code",
   "execution_count": 34,
   "id": "ccb8b9f7",
   "metadata": {},
   "outputs": [],
   "source": [
    "# load the prompts\n",
    "QNA_USER_PROMPT, QNA_SYSTEM_PROMPT = load_prompts()\n",
    "\n",
    "# read any input data from the system\n",
    "if not (data['career_quiz'] and data['user_response']):\n",
    "    # load the initial career quiz and response\n",
    "    career_quiz, user_response = load_quiz_files()\n",
    "else:\n",
    "    career_quiz = data['career_quiz']\n",
    "    user_response = data['user_response']\n"
   ]
  },
  {
   "cell_type": "code",
   "execution_count": 28,
   "id": "b15c0ec4",
   "metadata": {},
   "outputs": [],
   "source": [
    "# format prompts and get response\n",
    "qna_user_prompt, qna_system_prompt = format_prompts(QNA_USER_PROMPT,QNA_SYSTEM_PROMPT,career_quiz,user_response)\n",
    "response = llm(user_prompt = qna_user_prompt,system_prompt=qna_system_prompt,model=\"gpt-4o-mini\",temperature=0.5)"
   ]
  },
  {
   "cell_type": "code",
   "execution_count": 29,
   "id": "ed3abaa3",
   "metadata": {},
   "outputs": [
    {
     "name": "stdout",
     "output_type": "stream",
     "text": [
      "{'id': 2, 'question': 'What are your main interests or passions related to your career?', 'options': ['Technology', 'Arts and Design', 'Health and Wellness', 'Business and Management', 'Education', 'Science and Research'], 'multiple_answers': True}\n",
      "{'id': 2, 'question': 'What are your main interests or passions related to your career?', 'selections': ['Technology']}\n"
     ]
    }
   ],
   "source": [
    "# extract new question\n",
    "new_question = json.loads(response)\n",
    "print(new_question)\n",
    "\n",
    "# pretend the user selected and answer\n",
    "new_response = {\n",
    "    \"id\": new_question['id'],\n",
    "    \"question\": new_question['question'],\n",
    "    \"selections\": [new_question['options'][i] for i in [0]]\n",
    "}\n",
    "print(new_response)\n"
   ]
  },
  {
   "cell_type": "code",
   "execution_count": null,
   "id": "4afd3cb0",
   "metadata": {},
   "outputs": [],
   "source": [
    "# append to the career quiz and the user_response\n",
    "career_quiz.append(new_question)\n",
    "user_response.append(new_response)\n"
   ]
  },
  {
   "cell_type": "code",
   "execution_count": 32,
   "id": "74e24515",
   "metadata": {},
   "outputs": [],
   "source": [
    "# output the updated career quiz and user_response as json bits\n",
    "data = {\n",
    "    'career_quiz': career_quiz,\n",
    "    'user_response': user_response\n",
    "}"
   ]
  },
  {
   "cell_type": "code",
   "execution_count": 33,
   "id": "0b2a284d",
   "metadata": {},
   "outputs": [
    {
     "data": {
      "text/plain": [
       "{'career_quiz': [{'id': 1,\n",
       "   'question': 'Where are you in your professional development?',\n",
       "   'options': ['student',\n",
       "    'early-career professional',\n",
       "    'late career professional',\n",
       "    'lifelong learner'],\n",
       "   'multiple_answers': False},\n",
       "  {'id': 2,\n",
       "   'question': 'What are your main interests or passions related to your career?',\n",
       "   'options': ['Technology',\n",
       "    'Arts and Design',\n",
       "    'Health and Wellness',\n",
       "    'Business and Management',\n",
       "    'Education',\n",
       "    'Science and Research'],\n",
       "   'multiple_answers': True}],\n",
       " 'user_response': [{'id': 1,\n",
       "   'question': 'Where are you in your professional development?',\n",
       "   'selections': ['early-career professional']},\n",
       "  {'id': 2,\n",
       "   'question': 'What are your main interests or passions related to your career?',\n",
       "   'selections': ['Technology']}]}"
      ]
     },
     "execution_count": 33,
     "metadata": {},
     "output_type": "execute_result"
    }
   ],
   "source": [
    "data"
   ]
  }
 ],
 "metadata": {
  "kernelspec": {
   "display_name": ".venv",
   "language": "python",
   "name": "python3"
  },
  "language_info": {
   "codemirror_mode": {
    "name": "ipython",
    "version": 3
   },
   "file_extension": ".py",
   "mimetype": "text/x-python",
   "name": "python",
   "nbconvert_exporter": "python",
   "pygments_lexer": "ipython3",
   "version": "3.13.2"
  }
 },
 "nbformat": 4,
 "nbformat_minor": 5
}
