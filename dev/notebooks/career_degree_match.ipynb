{
 "cells": [
  {
   "cell_type": "markdown",
   "id": "75c342df",
   "metadata": {},
   "source": [
    "## Career-to-degree matcher\n",
    "This notebook is intended to figure out the best way to retrieve suitable careers offered by ASU online when you start with a list of potential careers.\n",
    "\n",
    "### Setting up elastic search\n",
    "We run elasticsearch locally via docker:\n",
    "\n",
    "\n",
    "```bash\n",
    "docker-compose up -d elasticsearch\n",
    "```\n",
    "\n",
    "Make sure you run this before running this notebook.\n",
    "\n",
    "\n",
    "\n",
    "Also make sure you do:\n",
    "\n",
    "```bash\n",
    "pip uninstall elasticsearch\n",
    "pip install elasticsearch==8.13.0\n",
    "```\n",
    "\n",
    "you are running on Docker ElasticSearch version 8.17.6 and for that one you need to install a compatible 8x library.\n",
    "\n",
    "\n",
    "### Other python libraries\n",
    "Also make sure you add the sentence transformer library via:\n",
    "\n",
    "```bash\n",
    "pip install fastembed\n",
    "```"
   ]
  },
  {
   "cell_type": "code",
   "execution_count": 1,
   "id": "d7184279",
   "metadata": {},
   "outputs": [
    {
     "name": "stderr",
     "output_type": "stream",
     "text": [
      "/Users/anicol11/ASU Dropbox/Andrea Nicolas Flores/Mac/Documents/projects/alpaca-api/dev/.venv/lib/python3.13/site-packages/tqdm/auto.py:21: TqdmWarning: IProgress not found. Please update jupyter and ipywidgets. See https://ipywidgets.readthedocs.io/en/stable/user_install.html\n",
      "  from .autonotebook import tqdm as notebook_tqdm\n"
     ]
    }
   ],
   "source": [
    "import json\n",
    "from tqdm.auto import tqdm\n",
    "from fastembed import TextEmbedding\n",
    "from elasticsearch import Elasticsearch"
   ]
  },
  {
   "cell_type": "code",
   "execution_count": 2,
   "id": "78262de2",
   "metadata": {},
   "outputs": [],
   "source": [
    "# load the degree data from that json file\n",
    "degree_data_filename = \"../datasets/degree_data_all_wCareers.json\"\n",
    "with open(degree_data_filename, \"r\") as f:\n",
    "        documents = json.load(f)"
   ]
  },
  {
   "cell_type": "code",
   "execution_count": 3,
   "id": "b7996d55",
   "metadata": {},
   "outputs": [],
   "source": [
    "# set up embedding model\n",
    "model_name = 'jinaai/jina-embeddings-v2-small-en'\n",
    "model  = TextEmbedding(model_name=model_name)"
   ]
  },
  {
   "cell_type": "code",
   "execution_count": 18,
   "id": "30c10798",
   "metadata": {},
   "outputs": [
    {
     "name": "stderr",
     "output_type": "stream",
     "text": [
      "Embedding degrees: 100%|██████████| 373/373 [00:14<00:00, 25.72it/s]\n"
     ]
    }
   ],
   "source": [
    "# embed the data inside the documents\n",
    "operations = []\n",
    "for doc in tqdm(documents, desc=\"Embedding degrees\"):\n",
    "    # create two strings, one with degree description and another one with the list of careers\n",
    "    title_description = doc['degreeTitle'] + \" \" + doc['shortDescription'] + \" \" + doc['longDescription']\n",
    "    careers = \", \".join(doc['careers'])\n",
    "\n",
    "    # embed them into vectors\n",
    "    doc['description_vector'] = list(model.embed(title_description))[0].tolist()\n",
    "    doc['career_vector'] = list(model.embed(careers))[0].tolist()\n",
    "\n",
    "    # append to a new list\n",
    "    operations.append(doc)"
   ]
  },
  {
   "cell_type": "code",
   "execution_count": 7,
   "id": "3b6e148f",
   "metadata": {},
   "outputs": [],
   "source": [
    "es_client = Elasticsearch(\n",
    "    \"http://localhost:9200\",\n",
    ")"
   ]
  },
  {
   "cell_type": "code",
   "execution_count": 9,
   "id": "bc6b1d61",
   "metadata": {},
   "outputs": [],
   "source": [
    "# set up mapping\n",
    "index_settings = {\n",
    "    \"settings\": {\n",
    "        \"number_of_shards\": 1,\n",
    "        \"number_of_replicas\": 0\n",
    "    },\n",
    "    \"mappings\": {\n",
    "        \"properties\": {\n",
    "            \"degreeTitle\": {\"type\": \"text\"},\n",
    "            \"shortDescription\": {\"type\": \"text\"},\n",
    "            \"longDescription\": {\"type\": \"text\"},\n",
    "            \"careers\": {\"type\": \"keyword\"},\n",
    "            \"description_vector\": {\n",
    "                \"type\": \"dense_vector\",\n",
    "                \"dims\": 512,           # Must match your model (e.g. jina-v2-small)\n",
    "                \"index\": True,\n",
    "                \"similarity\": \"cosine\"\n",
    "            },\n",
    "            \"career_vector\": {\n",
    "                \"type\": \"dense_vector\",\n",
    "                \"dims\": 512,           # Must match your model (e.g. jina-v2-small)\n",
    "                \"index\": True,\n",
    "                \"similarity\": \"cosine\"  # or \"l2_norm\"\n",
    "            }\n",
    "        }\n",
    "    }\n",
    "}\n",
    "\n",
    "\n",
    "index_name = \"degree_information\"\n",
    "\n",
    "if not es_client.indices.exists(index=index_name):\n",
    "    es_client.indices.create(index=index_name, body=index_settings)\n",
    "else:\n",
    "    print(f\"Index '{index_name}' already exists.\")"
   ]
  },
  {
   "cell_type": "code",
   "execution_count": 22,
   "id": "8b0e1f5e",
   "metadata": {},
   "outputs": [
    {
     "name": "stderr",
     "output_type": "stream",
     "text": [
      "100%|██████████| 373/373 [00:01<00:00, 252.30it/s]\n"
     ]
    }
   ],
   "source": [
    "# populate elastic search with the dadta\n",
    "for doc in tqdm(documents):\n",
    "    es_client.index(index=index_name, document=doc)"
   ]
  },
  {
   "cell_type": "markdown",
   "id": "2189882c",
   "metadata": {},
   "source": [
    "### Sample quiz response\n",
    "Here you will find:\n",
    "- the responses the user gave to the questions.\n",
    "- the careers suggested by openAI."
   ]
  },
  {
   "cell_type": "code",
   "execution_count": null,
   "id": "9ccc5f25",
   "metadata": {},
   "outputs": [],
   "source": [
    "answers = [\n",
    "    {\n",
    "        \"id\": 1,\n",
    "        \"question\": \"Where are you in your professional development?\",\n",
    "        \"selections\": [\n",
    "            \"early-career professional\"\n",
    "        ]\n",
    "    },\n",
    "    {\n",
    "        \"id\": 2,\n",
    "        \"question\": \"What are your main interests or passions?\",\n",
    "        \"selections\": [\n",
    "            \"Technology\",\n",
    "            \"Science and Research\"\n",
    "        ]\n",
    "    },\n",
    "    {\n",
    "        \"id\": 3,\n",
    "        \"question\": \"What skills do you feel most confident in?\",\n",
    "        \"selections\": [\n",
    "            \"Technical Skills\",\n",
    "            \"Analytical Skills\"\n",
    "        ]\n",
    "    },\n",
    "    {\n",
    "        \"id\": 4,\n",
    "        \"question\": \"What type of work environment do you prefer?\",\n",
    "        \"selections\": [\n",
    "            \"Remote work\"\n",
    "        ]\n",
    "    },\n",
    "    {\n",
    "        \"id\": 5,\n",
    "        \"question\": \"What are your career goals or motivations for pursuing a new degree?\",\n",
    "        \"selections\": [\n",
    "            \"Advancing in my current field\"\n",
    "        ]\n",
    "    },\n",
    "    {\n",
    "        \"id\": 6,\n",
    "        \"question\": \"What industries are you most interested in working in?\",\n",
    "        \"selections\": [\n",
    "            \"Information Technology\"\n",
    "        ]\n",
    "    },\n",
    "    {\n",
    "        \"id\": 7,\n",
    "        \"question\": \"What type of job roles are you most interested in pursuing?\",\n",
    "        \"selections\": [\n",
    "            \"Software Development\",\n",
    "            \"Data Analysis\"\n",
    "        ]\n",
    "    },\n",
    "    {\n",
    "        \"id\": 8,\n",
    "        \"question\": \"What aspects of a job do you find most rewarding?\",\n",
    "        \"selections\": [\n",
    "            \"Solving complex problems\",\n",
    "            \"Working with cutting-edge technology\"\n",
    "        ]\n",
    "    },\n",
    "    {\n",
    "        \"id\": 9,\n",
    "        \"question\": \"What type of side gigs or freelance work are you interested in exploring?\",\n",
    "        \"selections\": [\n",
    "            \"Freelance coding or development\",\n",
    "            \"Consulting\"\n",
    "        ]\n",
    "    },\n",
    "    {\n",
    "        \"id\": 10,\n",
    "        \"question\": \"What level of education are you aiming to achieve with your new degree?\",\n",
    "        \"selections\": [\n",
    "            \"Master's Degree\"\n",
    "        ]\n",
    "    }\n",
    "]\n",
    "\n",
    "recommendations = [\n",
    "    \"Software Engineer\",  \n",
    "    \"Data Scientist\",\n",
    "    \"IT Consultant\",\n",
    "    \"Systems Analyst\",\n",
    "    \"Technical Project Manager\",\n",
    "    \"DevOps Engineer\",\n",
    "    \"Machine Learning Engineer\",\n",
    "    \"Web Developer\"\n",
    "]"
   ]
  },
  {
   "cell_type": "code",
   "execution_count": 27,
   "id": "59626d85",
   "metadata": {},
   "outputs": [
    {
     "name": "stdout",
     "output_type": "stream",
     "text": [
      "Where are you in your professional development? early-career professional; What are your main interests or passions? Technology, Science and Research; What skills do you feel most confident in? Technical Skills, Analytical Skills; What type of work environment do you prefer? Remote work; What are your career goals or motivations for pursuing a new degree? Advancing in my current field; What industries are you most interested in working in? Information Technology; What type of job roles are you most interested in pursuing? Software Development, Data Analysis; What aspects of a job do you find most rewarding? Solving complex problems, Working with cutting-edge technology; What type of side gigs or freelance work are you interested in exploring? Freelance coding or development, Consulting; What level of education are you aiming to achieve with your new degree? Master's Degree\n"
     ]
    }
   ],
   "source": [
    "# set up user profile\n",
    "user_profile = []\n",
    "for answer in answers:\n",
    "    user_profile.append(answer[\"question\"] + \" \" + \", \".join(answer[\"selections\"]))\n",
    "\n",
    "user_profile = \"; \".join(user_profile)\n",
    "print(user_profile)"
   ]
  },
  {
   "cell_type": "code",
   "execution_count": 28,
   "id": "36e0d2b7",
   "metadata": {},
   "outputs": [
    {
     "name": "stdout",
     "output_type": "stream",
     "text": [
      "Data Scientist\n"
     ]
    }
   ],
   "source": [
    "# select career to search\n",
    "query = recommendations[1]\n",
    "print(query)"
   ]
  },
  {
   "cell_type": "code",
   "execution_count": 63,
   "id": "76bcc273",
   "metadata": {},
   "outputs": [],
   "source": [
    "def elastic_search(career, profile,model=[]):\n",
    "    # convert queries to vectors too\n",
    "    career_vector = list(model.embed(query))[0].tolist()\n",
    "    profile_vector = list(model.embed(profile))[0].tolist()\n",
    "\n",
    "    # generate search query\n",
    "    search_query = {\n",
    "        \"size\": 5,\n",
    "        \"query\": {\n",
    "            \"script_score\": {\n",
    "                \"query\": {\n",
    "                    \"bool\": {\n",
    "                        \"should\": [\n",
    "                            {\n",
    "                                \"multi_match\": {\n",
    "                                    \"query\": career,\n",
    "                                    \"fields\": [\"careers.text^5\", \"degreeTitle^2\", \"longDescription\"],\n",
    "                                    \"type\": \"best_fields\",\n",
    "                                    \"fuzziness\": \"AUTO\"\n",
    "                                }\n",
    "                            },\n",
    "                            {\n",
    "                                \"multi_match\": {\n",
    "                                    \"query\": profile,\n",
    "                                    \"fields\": [\"longDescription\", \"shortDescription\"],\n",
    "                                    \"type\": \"best_fields\"\n",
    "                                }\n",
    "                            }\n",
    "                        ],\n",
    "                        \"minimum_should_match\": 1\n",
    "                    }\n",
    "                },\n",
    "                \"script\": {\n",
    "                    \"source\": \"\"\"\n",
    "                        0.25 * cosineSimilarity(params.query_vector_desc, 'description_vector') + \n",
    "                        0.75 * cosineSimilarity(params.query_vector_career, 'career_vector') + 1.0\n",
    "                    \"\"\",\n",
    "                    \"params\": {\n",
    "                        \"query_vector_desc\": profile_vector,\n",
    "                        \"query_vector_career\": career_vector\n",
    "                    }\n",
    "                }\n",
    "            }\n",
    "        }\n",
    "    }\n",
    "\n",
    "    response = es_client.search(index=index_name, body=search_query)\n",
    "    return response[\"hits\"][\"hits\"]\n"
   ]
  },
  {
   "cell_type": "code",
   "execution_count": 64,
   "id": "08e12448",
   "metadata": {},
   "outputs": [],
   "source": [
    "search_results = elastic_search(query,user_profile,model=model)"
   ]
  },
  {
   "cell_type": "code",
   "execution_count": 65,
   "id": "60c76795",
   "metadata": {},
   "outputs": [
    {
     "name": "stdout",
     "output_type": "stream",
     "text": [
      "Online Master of Science in Program Evaluation and Data Analytics\n",
      "['Data ambassador', 'Data analyst', 'Data fellow', 'Data programmer', 'Data science engineer', 'Database-driven website consultant', 'Program performance and evaluation manager', 'Programmer analyst', 'Senior analyst in performance assessment']\n",
      "\n",
      "Online Master of Science in Information Technology (IT)\n",
      "['Data analyst', 'Database architect', 'Data engineer', 'DevOps engineer', 'Full stack developer', 'Network/cloud engineer', 'Network forensics engineer', 'Security engineer', 'Software engineer', 'Solutions architect']\n",
      "\n",
      "Online Master of Computer Science – Big Data Systems\n",
      "['Cloud support associate', 'Data architect', 'Data engineer', 'Data scientist', 'Database administrator', 'Software development engineer']\n",
      "\n",
      "Online Master of Science in Biological Data Science\n",
      "['Biostatistician', 'Bioinformatics scientist', 'Clinical data manager', 'Computer and information research scientist', 'Database administrator', 'Environmental scientist', 'Statistician']\n",
      "\n",
      "Online Master of Science in Global Health\n",
      "['Data analyst', 'Learning specialist', 'Program manager', 'Research associate', 'Technical advisor']\n",
      "\n"
     ]
    }
   ],
   "source": [
    "for result in search_results:\n",
    "    print(result['_source']['degreeTitle'])\n",
    "    print(result['_source']['careers'])\n",
    "    print(\"\")"
   ]
  }
 ],
 "metadata": {
  "kernelspec": {
   "display_name": ".venv",
   "language": "python",
   "name": "python3"
  },
  "language_info": {
   "codemirror_mode": {
    "name": "ipython",
    "version": 3
   },
   "file_extension": ".py",
   "mimetype": "text/x-python",
   "name": "python",
   "nbconvert_exporter": "python",
   "pygments_lexer": "ipython3",
   "version": "3.13.2"
  }
 },
 "nbformat": 4,
 "nbformat_minor": 5
}
